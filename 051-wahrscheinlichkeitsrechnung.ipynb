{
 "cells": [
  {
   "cell_type": "markdown",
   "id": "05a67aaa",
   "metadata": {},
   "source": [
    "# Wahrscheinlichkeitsrechnung\n",
    "\n",
    "## 1. Satz von Bayes\n",
    "\n",
    "Bob möchte gerne wissen, ob es regnet. Dazu schaut er aus dem Fenster, ob die Straße nass ist. Wenn es tatsächlich regnet, ist die Straße mit einer Wahrscheinlichkeit von 95 % nass (in 5 % der Fälle regnet es noch nicht lange genug, damit die Straße für Bob nass aussieht). Wenn es nicht regnet, ist die Straße mit einer Wahrscheinlichkeit von 25 % nass (weil der Nachbar von Bob den Rasensprenger laufen lässt, der auch die Straße trifft). Darüber hinaus weiß Bob, dass es an 40 % aller Tage regnet. Benutzen Sie für die folgenden Aufgaben die folgende Notation:\n",
    "\n",
    "* $r$: Es regnet.\n",
    "* $\\bar{r}$: Es regnet nicht.\n",
    "* $n$: Die Straße ist nass.\n",
    "\n",
    "Berechnen Sie die folgenden Wahrscheinlichkeiten:"
   ]
  },
  {
   "cell_type": "markdown",
   "id": "af4af206",
   "metadata": {},
   "source": [
    "$p(r) $"
   ]
  },
  {
   "cell_type": "markdown",
   "id": "22f19b4f",
   "metadata": {},
   "source": [
    "$p(\\bar{r})$"
   ]
  },
  {
   "cell_type": "markdown",
   "id": "592602a3",
   "metadata": {},
   "source": [
    "$p(n|r)$"
   ]
  },
  {
   "cell_type": "markdown",
   "id": "3d15eae1",
   "metadata": {},
   "source": [
    "$p(n|\\bar{r})$"
   ]
  },
  {
   "cell_type": "markdown",
   "id": "216e825a",
   "metadata": {},
   "source": [
    "$p(r|n)$"
   ]
  },
  {
   "cell_type": "markdown",
   "id": "3179a456",
   "metadata": {},
   "source": [
    "## 2. Satz von Bayes\n",
    "After your yearly checkup, the doctor has bad news and good news. The bad news is that\n",
    "you tested positive for a serious disease and that the test is 99% accurate. The good news\n",
    "is that this is a rare disease, striking only 1 in 10,000 people. What are the chances that\n",
    "you have the disease?"
   ]
  },
  {
   "cell_type": "markdown",
   "id": "d491aa31",
   "metadata": {},
   "source": [
    "# 3. \n",
    "Consider two medical tests, A and B, for a virus, Test A is 95% effective\n",
    "at recognizing the virus when it is present, but has a 10% false positive\n",
    "rate (indicating that the virus is present, when it is not). Test B is 90%\n",
    "effective at recognizing the virus, but has a 5% false positive rate. The\n",
    "two tests use independent methods of identifying the virus. The virus is\n",
    "carried by 1% of all people. Say that a person is tested for the virus using\n",
    "only one of the tests and that test comes back positive for carrying the\n",
    "virus. Which test returning positive is more indicative of someone really\n",
    "carrying the virus?"
   ]
  }
 ],
 "metadata": {
  "kernelspec": {
   "display_name": "Python 3 (ipykernel)",
   "language": "python",
   "name": "python3"
  },
  "language_info": {
   "codemirror_mode": {
    "name": "ipython",
    "version": 3
   },
   "file_extension": ".py",
   "mimetype": "text/x-python",
   "name": "python",
   "nbconvert_exporter": "python",
   "pygments_lexer": "ipython3",
   "version": "3.11.5"
  }
 },
 "nbformat": 4,
 "nbformat_minor": 5
}
