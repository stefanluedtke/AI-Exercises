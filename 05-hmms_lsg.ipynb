{
 "cells": [
  {
   "cell_type": "markdown",
   "metadata": {},
   "source": [
    "# Satz von Bayes und Hidden Markov Models\n",
    "\n",
    "## 1. Satz von Bayes\n",
    "\n",
    "Bob möchte gerne wissen, ob es regnet. Dazu schaut er aus dem Fenster, ob die Straße nass ist. Wenn es tatsächlich regnet, ist die Straße mit einer Wahrscheinlichkeit von 95 % nass (in 5 % der Fälle regnet es noch nicht lange genug, damit die Straße für Bob nass aussieht). Wenn es nicht regnet, ist die Straße mit einer Wahrscheinlichkeit von 25 % nass (weil der Nachbar von Bob den Rasensprenger laufen lässt, der auch die Straße trifft). Darüber hinaus weiß Bob, dass es an 40 % aller Tage regnet. Benutzen Sie für die folgenden Aufgaben die folgende Notation:\n",
    "\n",
    "* $r$: Es regnet.\n",
    "* $\\bar{r}$: Es regnet nicht.\n",
    "* $n$: Die Straße ist nass.\n",
    "\n",
    "Berechnen Sie die folgenden Wahrscheinlichkeiten:"
   ]
  },
  {
   "cell_type": "markdown",
   "metadata": {},
   "source": [
    "$p(r) = 0.4$"
   ]
  },
  {
   "cell_type": "markdown",
   "metadata": {},
   "source": [
    "$p(\\bar{r}) = 0.6$"
   ]
  },
  {
   "cell_type": "markdown",
   "metadata": {},
   "source": [
    "$p(n|r) = 0.95$"
   ]
  },
  {
   "cell_type": "markdown",
   "metadata": {},
   "source": [
    "$p(n|\\bar{r}) = 0.25$"
   ]
  },
  {
   "cell_type": "markdown",
   "metadata": {},
   "source": [
    "$p(r|n) =\\frac{p(n|r)p(r)}{p(n)}$\n",
    "\n",
    "$=\\frac{p(n|r)p(r)}{p(n|r)p(r)+p(n|\\bar{r})p(\\bar{r})}$\n",
    "\n",
    "$=\\frac{0.95*0.4}{0.95*0.4+0.25*0.6}=0.72$"
   ]
  },
  {
   "cell_type": "markdown",
   "metadata": {},
   "source": [
    "## 2. Hidden Markov Models\n",
    "Für eine Smartwatch soll ein System entwickelt werden, das automatisch erkennt, ob der\n",
    "Träger gerade schläft. Die Smartwatch enthält einen Beschleunigungssensor, der entwe-\n",
    "der den Wert wenig Bewegung“ oder den Wert viel Bewegung“ zurückliefert. Wenn der\n",
    "Träger schläft, ist die Wahrscheinlichkeit für viel Bewegung“ 5 % und die Wahrscheinlichkeit für wenig Bewegung“ 95 %. Wenn der Träger wach ist, ist die Wahrscheinlichkeit\n",
    "für viel Bewegung“ 60 % und die Wahrscheinlichkeit für wenig Bewegung“ 40 %. Wenn\n",
    "der Träger schläft, ist die Wahrscheinlichkeit, dass er im nächsten Zeitschritt wach ist,\n",
    "30 %. Wenn der Träger wach ist, ist die Wahrscheinlichkeit, dass er im nächsten Schritt\n",
    "schläft, 20 %. Zu Anfang schläft der Träger mit einer Wahrscheinlichkeit von 50 %.\n",
    "\n",
    "* Spezifizieren Sie diesen Prozess als HMM, wobei der Zustand beschreibt, ob die Person schläft oder wach ist. Notieren Sie die Initialzustand und das Beobachtungsmodell.\n",
    "* Berechnen Sie, ausgehend von der initialen Wahrscheinlichkeitsverteilung über den\n",
    "Zuständen, ...\n",
    "   * die Vorhersage, d.h., Wahrscheinlichkeitsverteilung allein auf Basis des Transitionsmodelles!\n",
    "   * die Korrektur nach der Beobachtung wenig Bewegung“!"
   ]
  },
  {
   "cell_type": "markdown",
   "metadata": {},
   "source": [
    "## 3. Ein einfaches Planungs-Problem\n",
    "Das Anziehen von Socken und Schuhen ist ein Planungsproblem. Schuhe können nur angezogen werden, wenn die jeweilige Socke schon angezogen ist. In dieser Aufgabe soll das Anziehen von Socken und Schuhen modelliert werden.\n",
    "* Zeichnen Sie den partiell geordneten Plan, und alle total geordneten Pläne auf."
   ]
  }
 ],
 "metadata": {
  "kernelspec": {
   "display_name": "Python [conda env:exercises]",
   "language": "python",
   "name": "conda-env-exercises-py"
  },
  "language_info": {
   "codemirror_mode": {
    "name": "ipython",
    "version": 3
   },
   "file_extension": ".py",
   "mimetype": "text/x-python",
   "name": "python",
   "nbconvert_exporter": "python",
   "pygments_lexer": "ipython3",
   "version": "3.7.2"
  }
 },
 "nbformat": 4,
 "nbformat_minor": 2
}
