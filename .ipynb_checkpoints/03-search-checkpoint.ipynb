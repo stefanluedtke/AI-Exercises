{
 "cells": [
  {
   "cell_type": "markdown",
   "metadata": {},
   "source": [
    "# Problemlösung durch Suchen\n"
   ]
  },
  {
   "cell_type": "markdown",
   "metadata": {},
   "source": [
    "## Aufgabe 1: Breiten- und Tiefensuche\n",
    "\n",
    "Gegeben seien die folgenden Implementierungen der Funktion tree_search_1: "
   ]
  },
  {
   "cell_type": "code",
   "execution_count": 2,
   "metadata": {},
   "outputs": [],
   "source": [
    "import collections\n",
    "import heapq\n",
    "import math\n",
    "\n",
    "class Queue:\n",
    "    def __init__(self):\n",
    "        self.elements = collections.deque()\n",
    "    \n",
    "    def empty(self):\n",
    "        return len(self.elements) == 0\n",
    "    \n",
    "    def put(self, x):\n",
    "        self.elements.append(x)\n",
    "    \n",
    "    def get(self):\n",
    "        return self.elements.popleft()\n",
    "\n",
    "class Stack:\n",
    "    def __init__(self):\n",
    "        self.elements = []\n",
    "    \n",
    "    def empty(self):\n",
    "        return len(self.elements) == 0\n",
    "    \n",
    "    def put(self, x):\n",
    "        self.elements.append(x)\n",
    "    \n",
    "    def get(self):\n",
    "        return self.elements.pop()\n",
    "\n",
    "\n",
    "class PriorityQueue:\n",
    "    def __init__(self):\n",
    "        self.elements = []\n",
    "    \n",
    "    def empty(self):\n",
    "        return len(self.elements) == 0\n",
    "    \n",
    "    def put(self, item, priority):\n",
    "        heapq.heappush(self.elements, (priority, item))\n",
    "    \n",
    "    def get(self):\n",
    "        return heapq.heappop(self.elements)[1]\n",
    "\n",
    "\n",
    "class SimpleGraph:\n",
    "    def __init__(self,edges):\n",
    "        self.edges = edges\n",
    "    \n",
    "    def neighbors(self, id):\n",
    "        return self.edges[id]\n",
    "\n",
    "class LabelledGraph:\n",
    "    def __init__(self,edges):\n",
    "        self.edges = edges\n",
    "    \n",
    "    def neighbors(self, id):\n",
    "        return self.edges[id]\n",
    "    \n",
    "def tree_search_1(queue,graph, start):\n",
    "    # return \"came_from\"\n",
    "    frontier = queue\n",
    "    frontier.put(start)\n",
    "    came_from = {}\n",
    "    came_from[start] = None\n",
    "    \n",
    "    while not frontier.empty():\n",
    "        current = frontier.get()\n",
    "        print(\"visiting: \",end=\"\")\n",
    "        print(current)\n",
    "        for next in graph.neighbors(current):\n",
    "            if next not in came_from:\n",
    "                frontier.put(next)\n",
    "                came_from[next] = current\n",
    "    \n",
    "    return came_from"
   ]
  },
  {
   "cell_type": "markdown",
   "metadata": {},
   "source": [
    "* Wie kann diese Funktion für die Implementierung einer Breiten- und Tiefensuche genutzt werden? Worin unterscheiden sich diese?\n",
    "* Implementieren Sie eine `breadthFirstSearch`, die die Funktion `treeSearch_1` benutzt, um breadth first search auszuführen\n",
    "* Implementieren Sie eine Funktion `depthFirstSearch`, die die Funktion `treeSearch_1` benutzt, um depth first search auszuführen."
   ]
  },
  {
   "cell_type": "code",
   "execution_count": 6,
   "metadata": {},
   "outputs": [],
   "source": [
    "def breadth_first_search_1(graph,start): \n",
    "    #TODO\n",
    "    return None\n",
    "def depth_first_search_1(graph,start): \n",
    "    #TODO\n",
    "    return None"
   ]
  },
  {
   "cell_type": "markdown",
   "metadata": {},
   "source": [
    "## Aufgabe 2: Suchen in Graphen\n",
    "\n",
    "* Verwenden Sie die Breiten- und Tiefensuche auf dem unten angegebenen Graphen, ausgehend von Knoten A.\n",
    "* Implementieren Sie eine erweiterte Version der tree-search, bei der auch ein Zielknoten angegeben wird. Die Suche wird nur so lange ausgeführt, bis der Zielknoten erreicht wurde.\n",
    "* Implementieren Sie erweiterte Versionen der Breiten- und Tiefensuche, basierend auf der neuen Tree-Search. Verwenden Sie diese Algorithmen, um von Knoten A einen Pfad zu Knoten E zu finden. Wie unterscheiden sich die Implementierungen?"
   ]
  },
  {
   "cell_type": "code",
   "execution_count": 9,
   "metadata": {},
   "outputs": [],
   "source": [
    "edges = {\n",
    "    'A': ['B'],\n",
    "    'B': ['A', 'C', 'D'],\n",
    "    'C': ['A'],\n",
    "    'D': ['E', 'A'],\n",
    "    'E': ['B']\n",
    "}\n",
    "example_graph = SimpleGraph(edges)\n",
    "\n",
    "def tree_search_2(queue,graph, start, goal):\n",
    "    #TODO\n",
    "    return None\n",
    "\n",
    "\n",
    "def breadth_first_search_2(graph,start,goal): \n",
    "    #TODO\n",
    "    return None\n",
    "def depth_first_search_2(graph,start,goal): \n",
    "    #TODO\n",
    "    return None\n",
    "\n",
    "breadth_first_search_1(example_graph, 'A')\n",
    "depth_first_search_1(example_graph, 'A')\n",
    "breadth_first_search_2(example_graph, 'A', 'E')\n",
    "depth_first_search_2(example_graph, 'A', 'E')"
   ]
  }
 ],
 "metadata": {
  "kernelspec": {
   "display_name": "Python 3 (ipykernel)",
   "language": "python",
   "name": "python3"
  },
  "language_info": {
   "codemirror_mode": {
    "name": "ipython",
    "version": 3
   },
   "file_extension": ".py",
   "mimetype": "text/x-python",
   "name": "python",
   "nbconvert_exporter": "python",
   "pygments_lexer": "ipython3",
   "version": "3.9.13"
  }
 },
 "nbformat": 4,
 "nbformat_minor": 2
}
