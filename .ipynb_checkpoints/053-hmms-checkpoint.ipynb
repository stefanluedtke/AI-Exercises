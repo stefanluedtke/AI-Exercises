{
 "cells": [
  {
   "cell_type": "markdown",
   "metadata": {},
   "source": [
    "## Hidden Markov Models\n",
    "Für eine Smartwatch soll ein System entwickelt werden, das automatisch erkennt, ob der\n",
    "Träger gerade schläft. Die Smartwatch enthält einen Beschleunigungssensor, der entwe-\n",
    "der den Wert wenig Bewegung“ oder den Wert viel Bewegung“ zurückliefert. Wenn der\n",
    "Träger schläft, ist die Wahrscheinlichkeit für viel Bewegung“ 5 % und die Wahrscheinlichkeit für wenig Bewegung“ 95 %. Wenn der Träger wach ist, ist die Wahrscheinlichkeit\n",
    "für viel Bewegung“ 60 % und die Wahrscheinlichkeit für wenig Bewegung“ 40 %. Wenn\n",
    "der Träger schläft, ist die Wahrscheinlichkeit, dass er im nächsten Zeitschritt wach ist,\n",
    "30 %. Wenn der Träger wach ist, ist die Wahrscheinlichkeit, dass er im nächsten Schritt\n",
    "schläft, 20 %. Zu Anfang schläft der Träger mit einer Wahrscheinlichkeit von 50 %.\n",
    "\n",
    "* Spezifizieren Sie diesen Prozess als HMM, wobei der Zustand beschreibt, ob die Person schläft oder wach ist. Notieren Sie die Initialzustand und das Beobachtungsmodell.\n",
    "* Berechnen Sie, ausgehend von der initialen Wahrscheinlichkeitsverteilung über den\n",
    "Zuständen, ...\n",
    "   * die Vorhersage, d.h., Wahrscheinlichkeitsverteilung allein auf Basis des Transitionsmodelles!\n",
    "   * die Korrektur nach der Beobachtung wenig Bewegung“!"
   ]
  }
 ],
 "metadata": {
  "kernelspec": {
   "display_name": "Python 3 (ipykernel)",
   "language": "python",
   "name": "python3"
  },
  "language_info": {
   "codemirror_mode": {
    "name": "ipython",
    "version": 3
   },
   "file_extension": ".py",
   "mimetype": "text/x-python",
   "name": "python",
   "nbconvert_exporter": "python",
   "pygments_lexer": "ipython3",
   "version": "3.9.13"
  }
 },
 "nbformat": 4,
 "nbformat_minor": 2
}
