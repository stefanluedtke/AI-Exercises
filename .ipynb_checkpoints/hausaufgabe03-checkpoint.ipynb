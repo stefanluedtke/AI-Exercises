{
 "cells": [
  {
   "attachments": {
    "grafik.png": {
     "image/png": "[encoded data removed]"
    }
   },
   "cell_type": "markdown",
   "metadata": {},
   "source": [
    "# MDPs und Reinforcement Learning\n",
    "\n",
    "Betrachten Sie das folgende Reinforcement-Learning-Problem:\n",
    "\n",
    "![grafik.png](attachment:grafik.png)\n",
    "\n",
    "Es gibt 6 Zustände $s_0,\\dots,s_5$ und 4 Aktionen UpC, Up, Left, Right. Die Aktionen\n",
    "funktionieren wie folgt:\n",
    "* UpC: Der Agent geht hoch, außer in $s_4$ und $s_5$ , wo nichts passiert. Reward: -1\n",
    "* Right: Der Agent bewegt sich nach rechts, in $s_0$,$s_2$, $s_4$, mit Reward 0. In den anderen Zuständen passiert nichts, und der Reward ist -1.\n",
    "* Left: Der Agent bewegt sich nach links, in $s_1$, $s_3$ , $s_5$ , mit Reward 0. In $s_0$ passiert nichts, und der Reward ist -1. In $s_2$ ist der Reward -100, und er bleibt in $s_2$ . In $s_4$ ist der Reward 10, der Agent landet in $s_0$.\n",
    "* Up: Mit Wahrscheinlichkeit 0.8, wie upC, mit Reward 0. Mit Wahrscheinlichkeit 0.1, gehe nach links, und mit Wahrscheinlichkeit 0.1 nach rechts (mit dem Reward, den die jeweilige Left oder Right Aktion hätte)."
   ]
  },
  {
   "cell_type": "markdown",
   "metadata": {},
   "source": [
    "(Ihre Namen hier)"
   ]
  },
  {
   "cell_type": "markdown",
   "metadata": {},
   "source": [
    "# Bewertung\n",
    "(wird von mir ausgefüllt)"
   ]
  },
  {
   "cell_type": "markdown",
   "metadata": {},
   "source": [
    "# Aufgaben\n",
    "\n",
    "* Implementieren Sie eine Funktion `reward`, die den Reward für einen Zustand `s`, eine Aktion `a` und einen Nachfolge-Zustand `s'` ausrechnet. Die Reward-Funktion soll wie oben angegeben gestaltet sein. Die Zustände sollen als natürliche Zahlen 0 bis 5 modelliert werden, die Aktionen als Paare von Strings: Der erste String soll angeben, welche Aktion ausgewählt wurde, der zweite String, welche Aktion tatsächlich ausgeführt wurde (gewählte Aktionen: `right`, `left` und `upC` und `up`, ausgeführte Aktionen: `right`, `left` und `upC`). `5 Punkte`."
   ]
  },
  {
   "cell_type": "code",
   "execution_count": null,
   "metadata": {},
   "outputs": [],
   "source": [
    "def reward(s,a,snew):\n",
    "    #TODO\n",
    "    return None "
   ]
  },
  {
   "cell_type": "markdown",
   "metadata": {},
   "source": [
    "* Implementieren Sie die Funktion `performAction`, die für einen Zustand `s` und eine *gewählte* Aktion `a`, die tatsächlich ausgeführte Aktion, und den Nachfolge-Zustand berechnet und als Paar zurückgibt. Das bedeutet, wenn als gewählte Aktion `up` übergeben wird, soll `upC`, `left` oder `right` entsprechend der oben beschriebenen Wahrscheinlichkeiten ausgeführt werden.  `5 Punkte`."
   ]
  },
  {
   "cell_type": "code",
   "execution_count": null,
   "metadata": {},
   "outputs": [],
   "source": [
    "def performAction(s,a1):\n",
    "    #TODO\n",
    "    return None\n",
    "\n",
    "#Test: \n",
    "performAction(0,\"up\") #sollte entweder (\"upC\",2) oder (\"left\",0) oder (\"right\",1) zurückliefern"
   ]
  },
  {
   "cell_type": "markdown",
   "metadata": {},
   "source": [
    "Der folgende Code erzeugt eine zufällige Sequenz von Aktionen und daraus resultierenden Zuständen. Diese Sequenz soll später verwendet werden, um ihren Q-Learning-Algorithmus zu testen."
   ]
  },
  {
   "cell_type": "code",
   "execution_count": null,
   "metadata": {},
   "outputs": [],
   "source": [
    "import numpy as np\n",
    "\n",
    "#gleichverteilt 100 Aktionen auswählen\n",
    "a1s = np.random.choice(np.array([\"up\",\"upC\",\"left\",\"right\"]),size=100,replace=True)\n",
    "\n",
    "a1s\n",
    "states = [0]\n",
    "actions = []\n",
    "\n",
    "#Berechne und speichere tatsächlich ausgeführte Aktionen, und Zustands-Folge\n",
    "for i in range(len(a1s)):\n",
    "    sanew = performAction(states[i],a1s[i])\n",
    "    actions = actions + [(a1s[i],sanew[0])]\n",
    "    states = states + [sanew[1]]\n",
    "\n",
    "print(states)\n",
    "print(actions)"
   ]
  },
  {
   "cell_type": "markdown",
   "metadata": {},
   "source": [
    "* Implementieren Sie die Funktion `qLearn`, die für eine Sequenz von Aktionen und Zuständen (so wie oben erzeugt), eine Q-Matrix durch Q-Learning berechnet. Die initiale Q-Matrix soll nur aus Nullen bestehen. Benutzen Sie folgende Formel (diese resultiert aus der Standardregel für die Lernrate $\\alpha = 1$): \n",
    "$Q(s,a) = r_{s,a} + \\gamma \\ max_{a'}(Q(a(s),a')$ (wobei $a(s)$ den Nachfolge-Zustand von $s$, für die Aktion $a$, bezeichnet). `10 Punkte`."
   ]
  },
  {
   "cell_type": "code",
   "execution_count": null,
   "metadata": {},
   "outputs": [],
   "source": [
    "def qLearn(actions,states,gamma=0.5):\n",
    "    #TODO\n",
    "    return None\n",
    "Q = qLearn(actions,states)\n",
    "print(Q)"
   ]
  },
  {
   "cell_type": "markdown",
   "metadata": {},
   "source": [
    "Betrachten Sie die resultierende Q-Matrix. Hat ihr Algorithmus eine intuitiv sinnvolle Policy gelernt? `2 Punkte`"
   ]
  },
  {
   "cell_type": "markdown",
   "metadata": {},
   "source": [
    "(Schreiben Sie ihre Antwort hier)"
   ]
  }
 ],
 "metadata": {
  "kernelspec": {
   "display_name": "Python [conda env:exercises]",
   "language": "python",
   "name": "conda-env-exercises-py"
  },
  "language_info": {
   "codemirror_mode": {
    "name": "ipython",
    "version": 3
   },
   "file_extension": ".py",
   "mimetype": "text/x-python",
   "name": "python",
   "nbconvert_exporter": "python",
   "pygments_lexer": "ipython3",
   "version": "3.7.2"
  }
 },
 "nbformat": 4,
 "nbformat_minor": 2
}
