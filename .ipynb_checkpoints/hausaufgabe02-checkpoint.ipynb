{
 "cells": [
  {
   "cell_type": "markdown",
   "metadata": {},
   "source": [
    "# Allgemeine Hinweise\n",
    "* Die Hausaufgaben sollen in 3er- oder 4er-Gruppen bearbeitet werden. 1er- und 2er-Abgaben werden mit 0 Punkten bewertet. Sie sollen selbstständig Gruppen bilden, wenn Sie noch eine Gruppe suchen, können Sie das Forum der StudIP-Veranstaltung zur Abstimmung nutzen. \n",
    "* Die Aufgaben sollen direkt in diesem Jupyter Notebook bearbeitet werden. Denken Sie daran, dass die Instanzen, die von Mybinder generiert werden, nicht unbedingt persistent sind, d.h. erstellen Sie regelmäßig Sicherungskopien (File -> Download as -> Notebook). \n",
    "* Schicken Sie bitte pro Gruppe ein Jupyter Notebook per Mail an stefan.luedtke2@uni-rostock.de. Die Mail, sowie das Jupyter Notebook müssen Namen und Matrikelnummern aller Gruppenmitglieder enthalten. Außerdem soll der Dateiname des Notebooks den Nachnamen der Gruppenmitglieder entsprechen.\n",
    "* Abgebetermin für Hausaufgabe 2 ist der 21.06.2019, 23:59 Uhr."
   ]
  },
  {
   "cell_type": "markdown",
   "metadata": {},
   "source": [
    "# 2. Zustandsschätzung\n",
    "Der in Hausaufgabe 1 umgesetzte Roboter ist noch nicht besonders realistisch. Um den Roboter etwas realistischer zu machen, wollen wir modellieren, dass der Roboter nicht sicher weiß, wo er sich befindet, sondern seine Position anhand von verrauschten Sensordaten schätzen muss. \n",
    "### Sensormodell\n",
    "Der Roboter besitzt einen Abstands-Sensor, mit dem er für seine aktuelle Position feststellen kann, welche der angrenzenden Felder betreten werden können, und welche nicht. Außerdem nehmen wir weiterhin an, dass der Roboter eine Karte der Umgebung besitzt. \n",
    "### Transitionsmodell\n",
    "Die Aktionen des Roboters sind nun nicht mehr deterministisch, sondern eine ausgeführte Aktion kann auch fehlschlagen. Von einer Position aus bewegt sich der Rotober mit einer Wahrscheinlichkeit von 70% in Richtung des Ziels, und mit einer Wahrscheinlichkeit von 30% gleichverteilt in eine der anderen möglichen Richtungen. \n",
    "### A-Priori-Verteilung\n",
    "Wenn der Roboter angeschaltet wird, hat er keinerlei Informationen darüber, wo er sich befindet, d.h. die initiale Verteilung ist eine Gleichverteilung über alle betretbaren Felder.\n",
    "\n",
    "### Hidden Markov Models\n",
    "In der Vorlesung haben sie Hidden Markov Models (HMMs) als Methode zur sequentiellen Zustandsschätzung kennengelernt. HMMs können genutzt werden, um die Wahrscheinlichkeitsverteilung der Roboter-Positionen im Verlauf der Zeit zu schätzen. \n",
    "\n",
    "HMMs modellieren Systeme, bei dem der System-Zustand einer von $n$ diskreten Werten $x^{(1)},\\dots,x^{(n)}$ ist. Das Transitionsmodell $p(X_{t+1}|X_t)$ kann dann als Matrix $T$ dargestellt werden. Dabei ist $t_{ij} = p(X_{t+1}=x^{(j)}|X_t=x^{(i)})$. \n",
    "\n",
    "Hier zunächst die Implementierung von `Map` und `astar`, die Sie für die folgenden Aufgaben benötigen."
   ]
  },
  {
   "cell_type": "code",
   "execution_count": 33,
   "metadata": {},
   "outputs": [
    {
     "data": {
      "image/png": "[encoded data removed]",
      "text/plain": [
       "<Figure size 336x288 with 1 Axes>"
      ]
     },
     "metadata": {
      "needs_background": "light"
     },
     "output_type": "display_data"
    }
   ],
   "source": [
    "import numpy as np\n",
    "import math\n",
    "import matplotlib.pyplot as plt\n",
    "import heapq\n",
    "import math\n",
    "\n",
    "class PriorityQueue:\n",
    "    def __init__(self):\n",
    "        self.elements = []\n",
    "    \n",
    "    def empty(self):\n",
    "        return len(self.elements) == 0\n",
    "    \n",
    "    def put(self, item, priority):\n",
    "        heapq.heappush(self.elements, (priority, item))\n",
    "    \n",
    "    def get(self):\n",
    "        return heapq.heappop(self.elements)[1]\n",
    "\n",
    "def distance(x, y):\n",
    "    return (((x[0]-y[0]))**2+((x[1]-y[1])**2))\n",
    "\n",
    "\n",
    "class Map:\n",
    "    def __init__(self,m : np.ndarray) -> None:\n",
    "        self.m = m\n",
    "    def neighbors(self,cell):\n",
    "        nrow,ncol = m.shape\n",
    "        x,y = cell\n",
    "        nb = []\n",
    "        if x>0:\n",
    "            if m[x-1,y]==0:\n",
    "                nb = nb + [(x-1,y)]\n",
    "        if x<(nrow-1):\n",
    "            if m[x+1,y]==0:\n",
    "                nb = nb + [(x+1,y)]\n",
    "        if y>0:\n",
    "            if m[x,y-1]==0:\n",
    "                nb = nb + [(x,y-1)]\n",
    "        if y<(ncol-1):\n",
    "            if m[x,y+1]==0:\n",
    "                nb = nb + [(x,y+1)]\n",
    "        return nb\n",
    "\n",
    "def make_path(came_from,start,goal):\n",
    "    path=[goal]\n",
    "    if start==goal:\n",
    "        return [start]\n",
    "    nex = came_from[goal]\n",
    "    while nex != start:\n",
    "        path.append(nex)\n",
    "        nex = came_from[nex]\n",
    "    path.reverse()\n",
    "    return [start] + path\n",
    "\n",
    "def astar(map : Map, start, goal):\n",
    "    frontier = PriorityQueue()\n",
    "    frontier.put(start, 0)\n",
    "    came_from = {}\n",
    "    cost_so_far = {}\n",
    "    came_from[start] = None\n",
    "    cost_so_far[start] = 0\n",
    "    while not frontier.empty():\n",
    "        current = frontier.get()\n",
    "        if current == goal:\n",
    "            break\n",
    "        \n",
    "        #calculate new cost for each neighbor\n",
    "        nn = map.neighbors(current)\n",
    "        for nexttile in nn:\n",
    "            nextcost = distance(current,nexttile)\n",
    "            new_cost = cost_so_far[current] + nextcost\n",
    "            if nexttile not in cost_so_far or new_cost < cost_so_far[nexttile]:\n",
    "                cost_so_far[nexttile] = new_cost\n",
    "                priority = new_cost + distance(nexttile,goal)\n",
    "                frontier.put(nexttile, priority)\n",
    "                came_from[nexttile] = current\n",
    "    return make_path(came_from,start,goal), cost_so_far\n",
    "\n",
    "\n",
    "def drawMap(map,path = None):\n",
    "    plt.matshow(map)\n",
    "    if path is not None:\n",
    "        x =  [x[0] for x in path]\n",
    "        y = [x[1] for x in path]\n",
    "        fig = plt.plot(y,x)\n",
    "\n",
    "m = np.array([[0,1,0,0,0,0,0],[0,1,0,1,0,0,1],[0,1,0,1,0,1,0],[0,1,0,1,0,0,0],[0,0,0,1,1,0,0],[0,0,0,1,1,0,0]])\n",
    "mm = Map(m)\n",
    "\n",
    "path, cost_so_far = astar(mm,(0,0),(5,6))\n",
    "\n",
    "drawMap(mm.m,path)"
   ]
  },
  {
   "cell_type": "markdown",
   "metadata": {},
   "source": [
    "\n",
    "## Aufgabe\n",
    "Implementieren Sie die sequentielle Zustandsschätzung als HMM. Dabei sollen folgende Funktionen implementiert werden:\n",
    "* `makeTM`: Diese Funktion soll die Transitions-Matrix des HMMs, gegeben eine Karte, vorberechnen. Bedenken Sie: Für eine Karte der Größe $n \\times m$, hat die Transitions-Matrix die Dimension $n*m \\times n*m$ -- für jedes Paar von aktuellem Zustand (Position des Agenten) und Nachfolge-Zustand gibt es einen Eintrag in der Transitions-Matrix. Wie oben beschrieben soll sich der Roboter mit einer Wahrscheinlichkeit von 70% in Richtung des Ziels, und mit einer Wahrscheinlichkeit von 30% gleichverteilt in eine der anderen *möglichen* Richtungen bewegen. Die Richtung des Ziels können Sie jeweils mit der Funktion `astar` ausrechnen. Berechnen Sie für die Karte `mm` und das Ziel `(5,6)` die Transitions-Matrix und stellen Sie diese mit `plt.matshow` dar. `10 Punkte`"
   ]
  },
  {
   "cell_type": "code",
   "execution_count": null,
   "metadata": {},
   "outputs": [],
   "source": [
    "import numpy.matlib\n",
    "\n",
    "\n",
    "def makeTM(map: Map,goal):\n",
    "    #TODO\n",
    "    return None\n",
    "   \n",
    "tm = makeTM(mm,(5,6))\n",
    "plt.matshow(tm)"
   ]
  },
  {
   "cell_type": "markdown",
   "metadata": {},
   "source": [
    "* `predict`: Berechnet die Prädiktion des HMMs: Gegeben eine Zustands-Verteilung $p(x_t|y_{1:t})$ (als Vektor) und eine Transitions-Matrix $T$, soll die Verteilung $p(x_{t+1}|y_{1:t})$ zurückgegeben werden. `5 Punkte`\n"
   ]
  },
  {
   "cell_type": "code",
   "execution_count": 35,
   "metadata": {},
   "outputs": [],
   "source": [
    "def predict(pxt,tm):\n",
    "    #TODO\n",
    "    return None"
   ]
  },
  {
   "cell_type": "markdown",
   "metadata": {},
   "source": [
    "* `makeObs`: Gibt für einen Zustand die Beobachtung zurück, die in diesem Zustand gemacht werden muss. (Diese Funktion benötigen Sie im Anschluss bei der Implementierung der `update`-Funktion). Die Beobachtungen sollen hierbei Listen der Länge 4 sein, die beschreiben, ob  oben, links, unten und rechts ein Hindernis beobachtet wurde. Beispielweise bedeutet die Beobachtung `[1,0,0,0]`, dass nur oben ein Hindernis beobachtet wurde.  Beachten Sie, dass die Ränder der Karte ebenfalls als Hindernis gelten sollen. Berechnen Sie die Beobachtung für die Position `(5,5)` und die Karte `mm` (die Korrekte Beobachtung muss dann `[0, 1, 1, 0]` sein). `5 Punkte`."
   ]
  },
  {
   "cell_type": "code",
   "execution_count": null,
   "metadata": {},
   "outputs": [],
   "source": [
    "def makeObs(s,map):\n",
    "    #TODO\n",
    "    return None"
   ]
  },
  {
   "cell_type": "markdown",
   "metadata": {},
   "source": [
    "* `update`: Diese Funktion soll den Update-Schritt von HMMs ausrechnen. Das heißt, gegeben eine Verteilung $p(x_{t+1}|y_{1:t})$ und eine Beobachtung $y_{t+1}$, soll die Verteilung $p(x_{t+1}|y_{1:t+1})$ berechnet werden. Dabei soll die Wahrscheinlichkeit aller Positionen $x_{t}$, die nicht zur aktuellen Beobachtung $y_{t+1}$ passen, d.h. bei denen `makeObs`($x_t$,`mm`) ungleich $y_{t+1}$ ist, auf $0$ gesetzt werden. `5 Punkte`"
   ]
  },
  {
   "cell_type": "code",
   "execution_count": 37,
   "metadata": {},
   "outputs": [],
   "source": [
    "def update(pxt,y,map):\n",
    "    #TODO\n",
    "    return None"
   ]
  },
  {
   "cell_type": "markdown",
   "metadata": {},
   "source": [
    "* `filter`: Berechnet aus einer Start-Verteilung $p(x_0)$, einer Transitions-Matrix und einer Sequenz (Liste) von Beobachtungen $y_1,\\dots,y_T$ eine Liste von Zustands-Verteilungen $p(x_1|y_1),\\dots,p(x_T|y_{1:T})$. `5 Punkte`"
   ]
  },
  {
   "cell_type": "code",
   "execution_count": 43,
   "metadata": {},
   "outputs": [],
   "source": [
    "def filter(map,p0,yy):\n",
    "    #TODO\n",
    "    return None"
   ]
  },
  {
   "cell_type": "markdown",
   "metadata": {},
   "source": [
    "* Sei $p(x_0)$ die Gleichverteilung aller erlaubten Positionen für die oben angegebene Karte. Sei $y_{1:3}$ = `[[0,1,0,1],[0,1,0,0],[0,1,1,0]]`. Berechnen Sie die Verteilungen $p(x_t|y_{1:t})$ für alle $t$, und stellen Sie die Verteilungen für alle $t$ als Heatmaps über mögliche Aufenthaltsorte dar. `5 Punkte`\n",
    "\n",
    "Die Heatmaps können beispielsweise so aussehen:\n",
    "\n",
    "### p(x_1|y_1)\n",
    "<img src=\"files/p1.png\">\n",
    "\n",
    "### p(x_2|y_2)\n",
    "<img src=\"files/p2.png\">\n",
    "\n",
    "### p(x_3|y_3)\n",
    "<img src=\"files/p3.png\">"
   ]
  },
  {
   "cell_type": "code",
   "execution_count": null,
   "metadata": {},
   "outputs": [],
   "source": [
    "#TODO"
   ]
  }
 ],
 "metadata": {
  "kernelspec": {
   "display_name": "Python [default]",
   "language": "python",
   "name": "python3"
  },
  "language_info": {
   "codemirror_mode": {
    "name": "ipython",
    "version": 3
   },
   "file_extension": ".py",
   "mimetype": "text/x-python",
   "name": "python",
   "nbconvert_exporter": "python",
   "pygments_lexer": "ipython3",
   "version": "3.6.5"
  }
 },
 "nbformat": 4,
 "nbformat_minor": 2
}
