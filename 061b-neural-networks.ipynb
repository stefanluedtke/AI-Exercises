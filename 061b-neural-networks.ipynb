{
 "cells": [
  {
   "cell_type": "markdown",
   "id": "f1bd9300",
   "metadata": {},
   "source": [
    "# Neuronale Netze\n",
    "\n",
    "In this Keras tutorial, you will use the Pima Indians onset of diabetes dataset. This is a standard machine learning dataset from the UCI Machine Learning repository. It describes patient medical record data for Pima Indians and whether they had an onset of diabetes within five years.\n",
    "\n",
    "As such, it is a binary classification problem (onset of diabetes as 1 or not as 0). All of the input variables that describe each patient are numerical. This makes it easy to use directly with neural networks that expect numerical input and output values and is an ideal choice for our first neural network in Keras.\n",
    "\n",
    "You can load the file as a matrix of numbers using the NumPy function loadtxt():"
   ]
  },
  {
   "cell_type": "code",
   "execution_count": null,
   "id": "d0636162",
   "metadata": {},
   "outputs": [],
   "source": [
    "from numpy import loadtxt\n",
    "from tensorflow.keras.models import Sequential\n",
    "from tensorflow.keras.layers import Dense\n",
    "\n",
    "# load the dataset\n",
    "dataset = loadtxt('pima-indians-diabetes.csv', delimiter=',')\n",
    "# split into input (X) and output (y) variables\n",
    "X = dataset[:,0:8]\n",
    "y = dataset[:,8]"
   ]
  },
  {
   "cell_type": "markdown",
   "id": "70474ee2",
   "metadata": {},
   "source": [
    "Models in Keras are defined as a sequence of layers.\n",
    "\n",
    "We create a Sequential model and add layers one at a time until we are happy with our network architecture.\n",
    "\n",
    "The first thing to get right is to ensure the input layer has the correct number of input features. This can be specified when creating the first layer with the input_shape argument and setting it to (8,) for presenting the eight input variables as a vector.\n",
    "\n",
    "How do we know the number of layers and their types?\n",
    "\n",
    "This is a tricky question. There are heuristics that you can use, and often the best network structure is found through a process of trial and error experimentation. Generally, you need a network large enough to capture the structure of the problem.\n",
    "\n",
    "In this example, let’s use a fully-connected network structure with three layers.\n",
    "\n",
    "Fully connected layers are defined using the Dense class. You can specify the number of neurons or nodes in the layer as the first argument and the activation function using the activation argument.\n",
    "\n",
    "Also, you will use the rectified linear unit activation function referred to as ReLU on the first two layers and the Sigmoid function in the output layer.\n",
    "\n",
    "It used to be the case that Sigmoid and Tanh activation functions were preferred for all layers. These days, better performance is achieved using the ReLU activation function. Using a sigmoid on the output layer ensures your network output is between 0 and 1 and is easy to map to either a probability of class 1 or snap to a hard classification of either class with a default threshold of 0.5.\n",
    "\n",
    "Define a model with three layers: a layer with 12 nodes, a layer with 8 nodes and finally an (output) layer with just a single node. Use Relu activation functions in all layers except the last layer, where you should use a sigmoid function."
   ]
  },
  {
   "cell_type": "code",
   "execution_count": null,
   "id": "444a7cef",
   "metadata": {},
   "outputs": [],
   "source": [
    "# define the keras model\n",
    "model = Sequential()\n",
    "model.add(Dense(12, input_shape=(8,), activation='relu'))\n",
    "#TODO: Add remaining layers"
   ]
  },
  {
   "cell_type": "markdown",
   "id": "5f4e80c8",
   "metadata": {},
   "source": [
    "Now that the model is defined, you can compile it.\n",
    "\n",
    "Compiling the model uses the efficient numerical libraries under the covers (the so-called backend) such as Theano or TensorFlow. The backend automatically chooses the best way to represent the network for training and making predictions to run on your hardware, such as CPU, GPU, or even distributed.\n",
    "\n",
    "When compiling, you must specify some additional properties required when training the network. Remember training a network means finding the best set of weights to map inputs to outputs in your dataset.\n",
    "\n",
    "You must specify the loss function to use to evaluate a set of weights, the optimizer used to search through different weights for the network, and any optional metrics you want to collect and report during training.\n",
    "\n",
    "In this case, use cross entropy as the loss argument. This loss is for a binary classification problems and is defined in Keras as “binary_crossentropy“. \n",
    "\n",
    "We will define the optimizer as the efficient stochastic gradient descent algorithm “adam“. This is a popular version of gradient descent because it automatically tunes itself and gives good results in a wide range of problems. \n",
    "\n",
    "Finally, because it is a classification problem, you will collect and report the classification accuracy defined via the metrics argument.\n",
    "\n",
    "Use the compile()-Function to compile the model:"
   ]
  },
  {
   "cell_type": "code",
   "execution_count": 1,
   "id": "b625d2e5",
   "metadata": {},
   "outputs": [],
   "source": [
    "#TODO"
   ]
  },
  {
   "cell_type": "markdown",
   "id": "c7c2fd00",
   "metadata": {},
   "source": [
    "You have defined your model and compiled it to get ready for efficient computation.\n",
    "\n",
    "Now it is time to execute the model on some data.\n",
    "\n",
    "You can train or fit your model on your loaded data by calling the fit() function on the model.\n",
    "\n",
    "Training occurs over epochs, and each epoch is split into batches.\n",
    "\n",
    "    * Epoch: One pass through all of the rows in the training dataset\n",
    "    * Batch: One or more samples considered by the model within an epoch before weights are updated\n",
    "\n",
    "One epoch comprises one or more batches, based on the chosen batch size, and the model is fit for many epochs. \n",
    "\n",
    "The training process will run for a fixed number of epochs (iterations) through the dataset that you must specify using the epochs argument. You must also set the number of dataset rows that are considered before the model weights are updated within each epoch, called the batch size, and set using the batch_size argument.\n",
    "\n",
    "Fit the model with 150 epochs and a batch size of 10.\n"
   ]
  },
  {
   "cell_type": "code",
   "execution_count": 2,
   "id": "c11bf4b1",
   "metadata": {},
   "outputs": [],
   "source": [
    "#TODO"
   ]
  },
  {
   "cell_type": "markdown",
   "id": "2299dfd8",
   "metadata": {},
   "source": [
    "You have trained our neural network on the entire dataset, and you can evaluate the performance of the network on the same dataset.\n",
    "\n",
    "This will only give you an idea of how well you have modeled the dataset (e.g., train accuracy), but no idea of how well the algorithm might perform on new data. This was done for simplicity, but ideally, you could separate your data into train and test datasets for training and evaluation of your model.\n",
    "\n",
    "You can evaluate your model on your training dataset using the evaluate() function and pass it the same input and output used to train the model.\n",
    "\n",
    "This will generate a prediction for each input and output pair and collect scores, including the average loss and any metrics you have configured, such as accuracy.\n",
    "\n",
    "The evaluate() function will return a list with two values. The first will be the loss of the model on the dataset, and the second will be the accuracy of the model on the dataset. You are only interested in reporting the accuracy so ignore the loss value."
   ]
  },
  {
   "cell_type": "code",
   "execution_count": 3,
   "id": "dce163f6",
   "metadata": {},
   "outputs": [],
   "source": [
    "#TODO"
   ]
  },
  {
   "cell_type": "markdown",
   "id": "e0f215f4",
   "metadata": {},
   "source": [
    "Now, try to improve the model by changing hyperprameters. What is the best accuracy that you can achieve?"
   ]
  }
 ],
 "metadata": {
  "kernelspec": {
   "display_name": "Python 3 (ipykernel)",
   "language": "python",
   "name": "python3"
  },
  "language_info": {
   "codemirror_mode": {
    "name": "ipython",
    "version": 3
   },
   "file_extension": ".py",
   "mimetype": "text/x-python",
   "name": "python",
   "nbconvert_exporter": "python",
   "pygments_lexer": "ipython3",
   "version": "3.9.13"
  }
 },
 "nbformat": 4,
 "nbformat_minor": 5
}
