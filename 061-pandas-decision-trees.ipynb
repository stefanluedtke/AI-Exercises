{
 "cells": [
  {
   "cell_type": "markdown",
   "metadata": {},
   "source": [
    "# Data Science und Entscheidungsbäume\n",
    "\n",
    "## 1. Pandas\n",
    "Ein weiteres Paket, das wir häufig verwenden werden, ist `pandas`. Dieses führt das Data Frame als zentrale Datenstruktur ein. Ein Data Frame ist eine Tabelle, wobei einzelne Spalten über Spaltennamen angesprochen werden können. Pandas bietet viele nützliche Möglichkeiten, auf Data Frames zuzugreifen. "
   ]
  },
  {
   "cell_type": "code",
   "execution_count": null,
   "metadata": {},
   "outputs": [],
   "source": [
    "import numpy as np\n",
    "import pandas as pd\n",
    "import matplotlib.pyplot as plt\n",
    "\n",
    "df = pd.read_csv(\"iris.csv\")\n",
    "\n",
    "df"
   ]
  },
  {
   "cell_type": "markdown",
   "metadata": {},
   "source": [
    "### Auswahl von Zeilen / Spalten\n",
    "Mit pandas können wir leicht bestimmte Zeilen oder Spalten in einem Data Frame auswählen. Eine Möglichkeit ist die Auswahl über den Namen der Spalte:"
   ]
  },
  {
   "cell_type": "code",
   "execution_count": null,
   "metadata": {},
   "outputs": [],
   "source": [
    "accx = df.loc[:,\"SepalLength\"]\n",
    "accx"
   ]
  },
  {
   "cell_type": "markdown",
   "metadata": {},
   "source": [
    "Hierbei steht `:` für \"wähle alle Zeilen aus\". Wenn nur eine einzelne Spalte zurückgegeben wird, ist das Ergebnis vom Typ `Series`, ansonsten ist das Ergebnis wieder ein Data Frame. Spalten können auch über den Index zugegriffen werden:"
   ]
  },
  {
   "cell_type": "code",
   "execution_count": null,
   "metadata": {},
   "outputs": [],
   "source": [
    "acc = df.iloc[:,1:4]\n",
    "acc"
   ]
  },
  {
   "cell_type": "markdown",
   "metadata": {},
   "source": [
    "Äquivalent kann auf die Zeilen zugegriffen werden. Der folgende Ausdruck liefert beispielsweise nur die ersten 5 Zeilen:"
   ]
  },
  {
   "cell_type": "code",
   "execution_count": null,
   "metadata": {},
   "outputs": [],
   "source": [
    "df.iloc[0:5,:]"
   ]
  },
  {
   "cell_type": "markdown",
   "metadata": {},
   "source": [
    "Natürlich können wir auch beides kombinieren, z.B. so:"
   ]
  },
  {
   "cell_type": "code",
   "execution_count": null,
   "metadata": {},
   "outputs": [],
   "source": [
    "df.loc[0:5,[\"SepalLength\", \"SepalWidth\"]]"
   ]
  },
  {
   "cell_type": "markdown",
   "metadata": {},
   "source": [
    "Eine weitere Möglichkeit ist, Zeilen (oder Spalten) über bool'sche Ausdrücke zuzugreifen. Beispielsweise liefert folgender Ausdruck alle Zeilen, in denen der Wert von `SepalLength` kleiner als 5 ist:"
   ]
  },
  {
   "cell_type": "code",
   "execution_count": null,
   "metadata": {},
   "outputs": [],
   "source": [
    "df.loc[df.SepalLength < 5,:]"
   ]
  },
  {
   "cell_type": "markdown",
   "metadata": {},
   "source": [
    "### Einfügen neuer Werte\n",
    "Das schreiben neuer Werte in ein Data Frame ist ebenso leicht möglich. Der folgende Ausdruck setzt alle Werte der Spalte `SepalLength`, die kleiner als 5 sind, auf den Wert 0."
   ]
  },
  {
   "cell_type": "code",
   "execution_count": null,
   "metadata": {},
   "outputs": [],
   "source": [
    "df.loc[df.SepalLength < 0,\"SepalLength\"] = 0\n",
    "df"
   ]
  },
  {
   "cell_type": "markdown",
   "metadata": {},
   "source": [
    "## 2. Entscheidungsbäume in Python\n",
    "Trainieren Sie einen Entscheidungsbaum auf den Iris-Daten. Verwenden Sie 2/3 der Daten zum Trainieren, und 1/3 der Daten zum Testen. Welche Genauigkeit können Sie erreichen?"
   ]
  }
 ],
 "metadata": {
  "kernelspec": {
   "display_name": "Python 3 (ipykernel)",
   "language": "python",
   "name": "python3"
  },
  "language_info": {
   "codemirror_mode": {
    "name": "ipython",
    "version": 3
   },
   "file_extension": ".py",
   "mimetype": "text/x-python",
   "name": "python",
   "nbconvert_exporter": "python",
   "pygments_lexer": "ipython3",
   "version": "3.9.13"
  }
 },
 "nbformat": 4,
 "nbformat_minor": 2
}
