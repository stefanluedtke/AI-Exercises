{
 "cells": [
  {
   "cell_type": "markdown",
   "metadata": {},
   "source": [
    "## Roboter-Navigation\n",
    "\n",
    "Nun schauen wir uns an, wie die Suchalgorithmen benutzt werden können, um einen Roboter kürzeste Wege finden zu lassen.\n",
    "\n",
    "Wir nehmen an, dass der Roboter eine Karte der Umgebung hat, und weiß, an welchem Punkt er sich befindet. Um das Ganze einfacher zu machen, nehmen wir außerdem an, dass die Karte ein einfaches 2D-Raster von Zellen ist. Der Roboter kann jede Zelle entweder betreten (`0`) oder die Zelle ist blockiert (`1`). \n",
    "In unserer Implementierung ist die Karte eine Matrix von Integers. Zusätzlich gibt es Convenience-Funktionen, um die Nachbarn einer Zelle zu erhalten, und die Distanz zwischen zwei Zellen auszurechnen.\n"
   ]
  },
  {
   "cell_type": "code",
   "execution_count": 3,
   "metadata": {},
   "outputs": [
    {
     "data": {
      "text/plain": [
       "[(5, 1), (4, 0), (4, 2)]"
      ]
     },
     "execution_count": 3,
     "metadata": {},
     "output_type": "execute_result"
    }
   ],
   "source": [
    "\n",
    "import numpy as np\n",
    "import math\n",
    "\n",
    "def distance(x, y):\n",
    "    return (((x[0]-y[0]))**2+((x[1]-y[1])**2))\n",
    "\n",
    "\n",
    "class Map:\n",
    "    def __init__(self,m : np.ndarray) -> None:\n",
    "        self.m = m\n",
    "    def neighbors(self,cell):\n",
    "        nrow,ncol = m.shape\n",
    "        x,y = cell\n",
    "        nb = []\n",
    "        if x>0:\n",
    "            if m[x-1,y]==0:\n",
    "                nb = nb + [(x-1,y)]\n",
    "        if x<(nrow-1):\n",
    "            if m[x+1,y]==0:\n",
    "                nb = nb + [(x+1,y)]\n",
    "        if y>0:\n",
    "            if m[x,y-1]==0:\n",
    "                nb = nb + [(x,y-1)]\n",
    "        if y<(ncol-1):\n",
    "            if m[x,y+1]==0:\n",
    "                nb = nb + [(x,y+1)]\n",
    "        return nb\n",
    "    \n",
    "    \n",
    "    \n",
    "m = np.array([[0,1,0,0,0,0,0],[0,1,0,1,0,0,1],[0,1,0,1,0,1,0],[0,1,0,1,0,0,0],[0,0,0,1,1,0,0],[0,0,0,1,1,0,0]])\n",
    "mm = Map(m)\n",
    "mm.neighbors((4,1))"
   ]
  },
  {
   "cell_type": "markdown",
   "metadata": {},
   "source": [
    "## Aufgabe\n",
    "\n",
    "* Implementieren Sie Tiefensuche, um einen Weg vom Start zum Ziel zu finden. Als Ausgabe soll ein Dictionary ausgegeben werden, dass für jeden (besuchten) Knoten den Vorgänger angibt.\n",
    "* Implementieren Sie eine Funktion `make_path(came_from,start,goal)`, die ein solches Dictionary in einen Weg vom Start zum Ziel (als Liste von Zellen) umwandelt. Ändern Sie Ihre Implementierung der Tiefensuche entsprechend ab, sodass direkt der Pfad ausgegeben wird.\n",
    "* Implementieren Sie den A*-Algorithmus, um von einem gegebenen Start den kürzesten Weg zum Ziel zu finden. Auch hier soll der Pfad als Liste von Zellen ausgegeben werden. \n",
    "* Testen Sie die Implementierungen mit der Karte `mm`, indem Sie den Weg von `(0,0)` zu `(5,6)` mit beiden Algorithmen ausrechnen. \n",
    "\n",
    "Die Implementierungen eines Stacks und einer Priority Queue (Prioritätswarteschlange) sind bereits gegeben und können von Ihnen verwendet werden."
   ]
  },
  {
   "cell_type": "code",
   "execution_count": 4,
   "metadata": {},
   "outputs": [],
   "source": [
    "import heapq\n",
    "import math\n",
    "\n",
    "class PriorityQueue:\n",
    "    def __init__(self):\n",
    "        self.elements = []\n",
    "    \n",
    "    def empty(self):\n",
    "        return len(self.elements) == 0\n",
    "    \n",
    "    def put(self, item, priority):\n",
    "        heapq.heappush(self.elements, (priority, item))\n",
    "    \n",
    "    def get(self):\n",
    "        return heapq.heappop(self.elements)[1]\n",
    "    \n",
    "class Stack:\n",
    "    def __init__(self):\n",
    "        self.elements = []\n",
    "    \n",
    "    def empty(self):\n",
    "        return len(self.elements) == 0\n",
    "    \n",
    "    def put(self, x):\n",
    "        self.elements.append(x)\n",
    "    \n",
    "    def get(self):\n",
    "        return self.elements.pop()"
   ]
  },
  {
   "cell_type": "code",
   "execution_count": 5,
   "metadata": {},
   "outputs": [],
   "source": [
    "def dfs(map : Map,start,goal):\n",
    "    #TODO"
   ]
  },
  {
   "cell_type": "code",
   "execution_count": 6,
   "metadata": {},
   "outputs": [],
   "source": [
    "def make_path(came_from,start,goal):\n",
    "    #TODO"
   ]
  },
  {
   "cell_type": "code",
   "execution_count": 7,
   "metadata": {},
   "outputs": [],
   "source": [
    "def astar(map : Map, start, goal):\n",
    "    #TODO"
   ]
  },
  {
   "attachments": {
    "grafik.png": {
     "image/png": "[encoded data removed]"
    }
   },
   "cell_type": "markdown",
   "metadata": {},
   "source": [
    "## Aufgabe\n",
    "Visualisieren Sie die Karte und den gefundenen Pfad. Tip: Nutzen Sie das Paket `matplotlib`.\n",
    "\n",
    "Das Ergebnis kann beispielsweise so aussehen:\n",
    "![grafik.png](attachment:grafik.png)"
   ]
  },
  {
   "cell_type": "code",
   "execution_count": 1,
   "metadata": {},
   "outputs": [],
   "source": [
    "#TODO"
   ]
  }
 ],
 "metadata": {
  "kernelspec": {
   "display_name": "Python 3 (ipykernel)",
   "language": "python",
   "name": "python3"
  },
  "language_info": {
   "codemirror_mode": {
    "name": "ipython",
    "version": 3
   },
   "file_extension": ".py",
   "mimetype": "text/x-python",
   "name": "python",
   "nbconvert_exporter": "python",
   "pygments_lexer": "ipython3",
   "version": "3.11.5"
  }
 },
 "nbformat": 4,
 "nbformat_minor": 2
}
