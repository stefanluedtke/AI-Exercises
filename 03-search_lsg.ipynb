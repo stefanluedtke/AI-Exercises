{
 "cells": [
  {
   "cell_type": "markdown",
   "metadata": {},
   "source": [
    "# Problemlösung durch Suchen\n",
    "## Aufgabe 1: Eigenschaften von Suchproblemen\n",
    "Diskutieren Sie die folgenden Begriffe:\n",
    "* Zustandsraum\n",
    "* Aktionen\n",
    "* Zielzustände\n",
    "* Initialzustand\n",
    "* Pfad im Zustandsraum\n",
    "* Kostenfunktion\n",
    "* Schrittkosten\n",
    "* Pfadkosten\n",
    "* Optimale Lösung"
   ]
  },
  {
   "cell_type": "markdown",
   "metadata": {},
   "source": [
    "## Aufgabe 2: Breiten- und Tiefensuche\n",
    "\n",
    "Gegeben seien die folgenden Implementierungen der Funktion tree_search_1: "
   ]
  },
  {
   "cell_type": "code",
   "execution_count": 2,
   "metadata": {},
   "outputs": [],
   "source": [
    "import collections\n",
    "import heapq\n",
    "import math\n",
    "\n",
    "class Queue:\n",
    "    def __init__(self):\n",
    "        self.elements = collections.deque()\n",
    "    \n",
    "    def empty(self):\n",
    "        return len(self.elements) == 0\n",
    "    \n",
    "    def put(self, x):\n",
    "        self.elements.append(x)\n",
    "    \n",
    "    def get(self):\n",
    "        return self.elements.popleft()\n",
    "\n",
    "class Stack:\n",
    "    def __init__(self):\n",
    "        self.elements = []\n",
    "    \n",
    "    def empty(self):\n",
    "        return len(self.elements) == 0\n",
    "    \n",
    "    def put(self, x):\n",
    "        self.elements.append(x)\n",
    "    \n",
    "    def get(self):\n",
    "        return self.elements.pop()\n",
    "\n",
    "\n",
    "class PriorityQueue:\n",
    "    def __init__(self):\n",
    "        self.elements = []\n",
    "    \n",
    "    def empty(self):\n",
    "        return len(self.elements) == 0\n",
    "    \n",
    "    def put(self, item, priority):\n",
    "        heapq.heappush(self.elements, (priority, item))\n",
    "    \n",
    "    def get(self):\n",
    "        return heapq.heappop(self.elements)[1]\n",
    "\n",
    "\n",
    "class SimpleGraph:\n",
    "    def __init__(self,edges):\n",
    "        self.edges = edges\n",
    "    \n",
    "    def neighbors(self, id):\n",
    "        return self.edges[id]\n",
    "\n",
    "class LabelledGraph:\n",
    "    def __init__(self,edges):\n",
    "        self.edges = edges\n",
    "    \n",
    "    def neighbors(self, id):\n",
    "        return self.edges[id]\n",
    "    \n",
    "def tree_search_1(queue,graph, start):\n",
    "    # return \"came_from\"\n",
    "    frontier = queue\n",
    "    frontier.put(start)\n",
    "    came_from = {}\n",
    "    came_from[start] = None\n",
    "    \n",
    "    while not frontier.empty():\n",
    "        current = frontier.get()\n",
    "        print(\"visiting: \",end=\"\")\n",
    "        print(current)\n",
    "        for next in graph.neighbors(current):\n",
    "            if next not in came_from:\n",
    "                frontier.put(next)\n",
    "                came_from[next] = current\n",
    "    \n",
    "    return came_from"
   ]
  },
  {
   "cell_type": "markdown",
   "metadata": {},
   "source": [
    "* Wie kann diese Funktion für die Implementierung einer Breiten- und Tiefensuche genutzt werden? Worin unterscheiden sich diese?\n",
    "* Implementieren Sie eine `breadthFirstSearch`, die die Funktion `treeSearch_1` benutzt, um breadth first search auszuführen\n",
    "* Implementieren Sie eine Funktion `depthFirstSearch`, die die Funktion `treeSearch_1` benutzt, um depth first search auszuführen."
   ]
  },
  {
   "cell_type": "code",
   "execution_count": 3,
   "metadata": {},
   "outputs": [],
   "source": [
    "def breadth_first_search_1(graph,start): return tree_search_1(Queue(),graph,start)\n",
    "def depth_first_search_1(graph,start): return tree_search_1(Stack(),graph,start)"
   ]
  },
  {
   "cell_type": "markdown",
   "metadata": {},
   "source": [
    "## Aufgabe 3: Suchen in Graphen\n",
    "\n",
    "* Definieren Sie folgenden Graphen als Instanz der Klasse Graph (die Kanten müssen als Dictionary von Strings auf Listen von Strings übergeben werden).\n",
    "* Verwenden Sie die Breiten- und Tiefensuche auf dem Graphen, ausgehend von Knoten A.\n",
    "* Implementieren Sie eine erweiterte Version der tree-search, bei der auch ein Zielknoten angegeben wird. Die Suche wird nur so lange ausgeführt, bis der Zielknoten erreicht wurde.\n",
    "* Implementieren Sie erweiterte Versionen der Breiten- und Tiefensuche, basierend auf der neuen Tree-Search. Verwenden Sie diese Algorithmen, um von Knoten A einen Pfad zu Knoten E zu finden. Wie unterscheiden sich die Implementierungen?"
   ]
  },
  {
   "cell_type": "code",
   "execution_count": 4,
   "metadata": {},
   "outputs": [
    {
     "name": "stdout",
     "output_type": "stream",
     "text": [
      "visiting: A\n",
      "visiting: B\n",
      "visiting: C\n",
      "visiting: D\n",
      "visiting: E\n",
      "visiting: A\n",
      "visiting: B\n",
      "visiting: D\n",
      "visiting: E\n",
      "visiting: C\n",
      "visiting: A\n",
      "visiting: B\n",
      "visiting: C\n",
      "visiting: D\n",
      "visiting: E\n",
      "found goal: E\n",
      "visiting: A\n",
      "visiting: B\n",
      "visiting: D\n",
      "found goal: D\n"
     ]
    },
    {
     "data": {
      "text/plain": [
       "{'A': None, 'B': 'A', 'C': 'B', 'D': 'B'}"
      ]
     },
     "execution_count": 4,
     "metadata": {},
     "output_type": "execute_result"
    }
   ],
   "source": [
    "edges = {\n",
    "    'A': ['B'],\n",
    "    'B': ['A', 'C', 'D'],\n",
    "    'C': ['A'],\n",
    "    'D': ['E', 'A'],\n",
    "    'E': ['B']\n",
    "}\n",
    "example_graph = SimpleGraph(edges)\n",
    "\n",
    "def tree_search_2(queue,graph, start, goal):\n",
    "    frontier = queue\n",
    "    frontier.put(start)\n",
    "    came_from = {}\n",
    "    came_from[start] = None\n",
    "    \n",
    "    while not frontier.empty():\n",
    "        current = frontier.get()\n",
    "        print(\"visiting: \",end=\"\")\n",
    "        print(current)\n",
    "        \n",
    "        if current == goal:\n",
    "            print(\"found goal: \",end=\"\")\n",
    "            print(goal)\n",
    "            break\n",
    "        \n",
    "        for next in graph.neighbors(current):\n",
    "            if next not in came_from:\n",
    "                frontier.put(next)\n",
    "                came_from[next] = current\n",
    "    \n",
    "    return came_from\n",
    "\n",
    "\n",
    "def breadth_first_search_2(graph,start,goal): return tree_search_2(Queue(),graph,start,goal)\n",
    "def depth_first_search_2(graph,start,goal): return tree_search_2(Stack(),graph,start,goal)\n",
    "\n",
    "breadth_first_search_1(example_graph, 'A')\n",
    "depth_first_search_1(example_graph, 'A')\n",
    "breadth_first_search_2(example_graph, 'A', 'E')\n",
    "depth_first_search_2(example_graph, 'A', 'D')"
   ]
  }
 ],
 "metadata": {
  "kernelspec": {
   "display_name": "Python [conda env:exercises]",
   "language": "python",
   "name": "conda-env-exercises-py"
  },
  "language_info": {
   "codemirror_mode": {
    "name": "ipython",
    "version": 3
   },
   "file_extension": ".py",
   "mimetype": "text/x-python",
   "name": "python",
   "nbconvert_exporter": "python",
   "pygments_lexer": "ipython3",
   "version": "3.7.2"
  }
 },
 "nbformat": 4,
 "nbformat_minor": 2
}
